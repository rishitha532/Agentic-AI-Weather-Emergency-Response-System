{
  "cells": [
    {
      "cell_type": "markdown",
      "metadata": {
        "id": "123gKRFSoI3L"
      },
      "source": [
        "## **Hybrid Agent Graph (Simulate High Severity Weather level check with dummy weather and Social Monitoring data):**\n",
        "\n",
        "\n",
        "## **Note:** Below, only details are given for nodes or functions, which are not described above"
      ]
    },
    {
      "cell_type": "markdown",
      "metadata": {
        "id": "GzVdr01NoSjM"
      },
      "source": [
        "##  **1. Installation of Required Packages**"
      ]
    },
    {
      "cell_type": "code",
      "execution_count": null,
      "metadata": {
        "id": "RIsm0_ktoY7a"
      },
      "outputs": [],
      "source": [
        "%%capture --no-stderr\n",
        "%pip install -U langgraph langsmith langchain langchain_google_genai langchain_community schedule"
      ]
    },
    {
      "cell_type": "markdown",
      "metadata": {
        "id": "iUdFz-zPcI25"
      },
      "source": [
        "%%capture --no-stderr\n",
        "%pip install -U langgraph langsmith langchain langchain_google_genai langchain_community schedule"
      ]
    },
    {
      "cell_type": "markdown",
      "metadata": {
        "id": "uhEnfDY9o1yO"
      },
      "source": [
        "## **2. Call Credentials and Set API Keys**"
      ]
    },
    {
      "cell_type": "code",
      "execution_count": null,
      "metadata": {
        "id": "FZ8Zh84jooMz"
      },
      "outputs": [],
      "source": [
        "import os\n",
        "from google.colab import userdata\n",
        "gemini_api_key = userdata.get('GEMINI_API_KEY')\n",
        "API_KEY = userdata.get('W_API_KEY')\n",
        "NEWS_API_KEY = userdata.get('NEWS_API_KEY')\n",
        "os.environ[\"API_KEY\"] = API_KEY\n",
        "os.environ[\"GOOGLE_API_KEY\"] = gemini_api_key\n",
        "os.environ['NEWS_API_KEY'] = NEWS_API_KEY"
      ]
    },
    {
      "cell_type": "code",
      "execution_count": null,
      "metadata": {
        "colab": {
          "base_uri": "https://localhost:8080/"
        },
        "id": "OwXnEQjb5IBz",
        "outputId": "37a37b98-2409-4213-c567-61a6f66d3fb3"
      },
      "outputs": [
        {
          "name": "stdout",
          "output_type": "stream",
          "text": [
            "API_KEY: f04579c32f6278796260a9e0b0c65fca\n"
          ]
        }
      ],
      "source": [
        "import os\n",
        "print(\"API_KEY:\", os.getenv(\"API_KEY\"))\n"
      ]
    },
    {
      "cell_type": "code",
      "execution_count": null,
      "metadata": {
        "colab": {
          "base_uri": "https://localhost:8080/"
        },
        "id": "VcKJQaKxU-4m",
        "outputId": "ca20fc3f-ba61-4611-d003-0892bb4bead5"
      },
      "outputs": [
        {
          "name": "stdout",
          "output_type": "stream",
          "text": [
            "📍 Weather News for Houston:\n",
            "\n",
            "📰 Installment Loans for Bad Credit Online Guaranteed Instant Approval From Best Direct Lenders 2025 — GlobeNewswire\n",
            "🔗 https://www.globenewswire.com/news-release/2025/05/01/3072645/0/en/Installment-Loans-for-Bad-Credit-Online-Guaranteed-Instant-Approval-From-Best-Direct-Lenders-2025.html\n"
          ]
        }
      ],
      "source": [
        "import requests\n",
        "import os\n",
        "\n",
        "def get_weather_news_for_city(city: str, api_key: str) -> str:\n",
        "    \"\"\"\n",
        "    Searches for recent weather-related news articles about a specific city using NewsAPI.\n",
        "    Filters results to include only articles that mention both the city and severe weather terms.\n",
        "    \"\"\"\n",
        "    # Define severe weather-related keywords\n",
        "    keywords = [\"storm\", \"flood\", \"heatwave\", \"tornado\", \"hail\", \"lightning\", \"thunderstorm\", \"weather alert\", \"evacuation\", \"emergency\"]\n",
        "    keyword_query = \" OR \".join([f'\"{kw}\"' for kw in keywords])\n",
        "    search_query = f'\"{city}\" AND ({keyword_query})'\n",
        "\n",
        "    # Prepare the request\n",
        "    url = (\n",
        "        f\"https://newsapi.org/v2/everything?\"\n",
        "        f\"q={requests.utils.quote(search_query)}\"\n",
        "        f\"&language=en&sortBy=publishedAt&pageSize=10&apiKey={api_key}\"\n",
        "    )\n",
        "\n",
        "    # Make request\n",
        "    response = requests.get(url)\n",
        "    if response.status_code != 200:\n",
        "        return f\"❌ Failed to fetch news: {response.status_code} - {response.text}\"\n",
        "\n",
        "    articles = response.json().get(\"articles\", [])\n",
        "    city_lower = city.lower()\n",
        "\n",
        "    # Filter for strong match to city name and weather content\n",
        "    relevant_articles = []\n",
        "    for article in articles:\n",
        "        title = article.get(\"title\", \"\")\n",
        "        desc = article.get(\"description\", \"\")\n",
        "        content = article.get(\"content\", \"\")\n",
        "        combined_text = f\"{title} {desc} {content}\".lower()\n",
        "\n",
        "        if city_lower in combined_text:\n",
        "            relevant_articles.append({\n",
        "                \"title\": title,\n",
        "                \"source\": article.get(\"source\", {}).get(\"name\", \"\"),\n",
        "                \"url\": article.get(\"url\", \"\")\n",
        "            })\n",
        "\n",
        "    # Format results\n",
        "    if relevant_articles:\n",
        "        report = [f\"📍 Weather News for {city.title()}:\"]\n",
        "        for a in relevant_articles:\n",
        "            report.append(f\"📰 {a['title']} — {a['source']}\\n🔗 {a['url']}\")\n",
        "        return \"\\n\\n\".join(report)\n",
        "    else:\n",
        "        return f\"✅ {city.title()} is currently calm. No recent severe weather news reported.\"\n",
        "\n",
        "# 🔐 Set your NewsAPI key\n",
        "os.environ[\"NEWS_API_KEY\"] = \"5935628fb485429982f522f2bb117d4c\"  # Replace this or set externally\n",
        "\n",
        "# ✅ Run the search\n",
        "city = \"Houston\"\n",
        "api_key = os.getenv(\"NEWS_API_KEY\")\n",
        "print(get_weather_news_for_city(city, api_key))\n"
      ]
    },
    {
      "cell_type": "markdown",
      "metadata": {
        "id": "zlnKB6JGtcQC"
      },
      "source": [
        "## **3. Standard Library Imports**"
      ]
    },
    {
      "cell_type": "code",
      "execution_count": null,
      "metadata": {
        "id": "mfCHdBZLrVEo"
      },
      "outputs": [],
      "source": [
        "import os\n",
        "import random\n",
        "import requests\n",
        "import schedule\n",
        "import time\n",
        "from typing import Dict, TypedDict, Union, List, Literal\n",
        "import json\n",
        "from datetime import datetime\n",
        "from langgraph.graph import StateGraph, END\n",
        "from langchain_core.prompts import ChatPromptTemplate\n",
        "from langchain_google_genai import ChatGoogleGenerativeAI\n",
        "from langchain_core.messages import AIMessage, HumanMessage, SystemMessage\n",
        "import smtplib\n",
        "from email.mime.text import MIMEText\n",
        "from email.mime.multipart import MIMEMultipart"
      ]
    },
    {
      "cell_type": "markdown",
      "metadata": {
        "id": "UZGqhWSBuRSM"
      },
      "source": [
        "## **4. Defining an LLM and a State Class**"
      ]
    },
    {
      "cell_type": "code",
      "execution_count": null,
      "metadata": {
        "id": "Bq4xOZmAuflE"
      },
      "outputs": [],
      "source": [
        "# Initialize LLM\n",
        "llm = ChatGoogleGenerativeAI(model=\"gemini-1.5-flash\")\n",
        "\n",
        "class WeatherState(TypedDict):\n",
        "    city: str\n",
        "    weather_data: Dict\n",
        "    disaster_type: str\n",
        "    severity: str\n",
        "    response: str\n",
        "    messages: List[Union[SystemMessage, HumanMessage, AIMessage]]\n",
        "    alerts: List[str]\n",
        "    social_media_reports: List[str]\n",
        "    human_approved: bool\n",
        "    test_mode: bool  # <-- add this"
      ]
    },
    {
      "cell_type": "markdown",
      "metadata": {
        "id": "KuBkuedTv292"
      },
      "source": [
        "## **5. Define Node Functions**"
      ]
    },
    {
      "cell_type": "markdown",
      "metadata": {
        "id": "NO1_aeNav7sr"
      },
      "source": [
        "#### **(a) Fetching Weather Data**"
      ]
    },
    {
      "cell_type": "code",
      "execution_count": null,
      "metadata": {
        "id": "8oG1ASK0uhMQ"
      },
      "outputs": [],
      "source": [
        "def get_weather_data(state: WeatherState) -> Dict:\n",
        "    \"\"\"Fetch short-term forecast weather data from OpenWeatherMap API or use simulated data in test mode\"\"\"\n",
        "\n",
        "    if state.get(\"test_mode\") and state['weather_data']:\n",
        "        return {\n",
        "            **state,\n",
        "            \"messages\": state[\"messages\"] + [\n",
        "                SystemMessage(content=f\"🧪 Using simulated forecast data for {state['city']} (test mode)\")\n",
        "            ]\n",
        "        }\n",
        "\n",
        "    BASE_URL = \"http://api.openweathermap.org/data/2.5/forecast\"\n",
        "    API_KEY = os.getenv(\"API_KEY\")\n",
        "\n",
        "    if not API_KEY:\n",
        "        return {\n",
        "            **state,\n",
        "            \"messages\": state[\"messages\"] + [SystemMessage(content=\"❌ API_KEY not found in environment variables.\")]\n",
        "        }\n",
        "\n",
        "    request_url = f\"{BASE_URL}?q={state['city']}&appid={API_KEY}&units=metric\"\n",
        "\n",
        "    try:\n",
        "        response = requests.get(request_url)\n",
        "        response.raise_for_status()\n",
        "        data = response.json()\n",
        "\n",
        "        # Use next 6 hours forecast (2 intervals of 3 hours)\n",
        "        next_hours = data.get('list', [])[:2]\n",
        "\n",
        "        weather_conditions = [block['weather'][0]['description'] for block in next_hours]\n",
        "        wind_speeds = [block['wind']['speed'] for block in next_hours]\n",
        "        temps = [block['main']['temp'] for block in next_hours]\n",
        "        humidities = [block['main']['humidity'] for block in next_hours]\n",
        "        pressures = [block['main']['pressure'] for block in next_hours]\n",
        "        clouds = [block['clouds']['all'] for block in next_hours]\n",
        "\n",
        "        forecast_summary = {\n",
        "            \"weather\": \", \".join(set(weather_conditions)),  # Combine unique descriptions\n",
        "            \"wind_speed\": max(wind_speeds),\n",
        "            \"temperature\": max(temps),\n",
        "            \"humidity\": max(humidities),\n",
        "            \"pressure\": min(pressures),\n",
        "            \"cloud_cover\": max(clouds),\n",
        "            \"sea_level\": \"N/A\"  # Usually not in forecast data\n",
        "        }\n",
        "\n",
        "        return {\n",
        "            **state,\n",
        "            \"weather_data\": forecast_summary,\n",
        "            \"messages\": state[\"messages\"] + [SystemMessage(content=f\"✅ Forecast data fetched for {state['city']}\")]\n",
        "        }\n",
        "\n",
        "    except Exception as e:\n",
        "        fallback_data = {\n",
        "            \"weather\": \"N/A\",\n",
        "            \"wind_speed\": \"N/A\",\n",
        "            \"cloud_cover\": \"N/A\",\n",
        "            \"sea_level\": \"N/A\",\n",
        "            \"temperature\": \"N/A\",\n",
        "            \"humidity\": \"N/A\",\n",
        "            \"pressure\": \"N/A\"\n",
        "        }\n",
        "\n",
        "        return {\n",
        "            **state,\n",
        "            \"weather_data\": fallback_data,\n",
        "            \"messages\": state[\"messages\"] + [SystemMessage(content=f\"❌ Failed to fetch forecast data: {str(e)}\")]\n",
        "        }\n"
      ]
    },
    {
      "cell_type": "markdown",
      "metadata": {
        "id": "DK2iA0vnwA8a"
      },
      "source": [
        "#### **(b) Social Media Monitoring**\n"
      ]
    },
    {
      "cell_type": "code",
      "execution_count": null,
      "metadata": {
        "id": "iakH6ixgv-fQ"
      },
      "outputs": [],
      "source": [
        "import random\n",
        "import requests\n",
        "from langchain_core.messages import SystemMessage\n",
        "\n",
        "import requests\n",
        "\n",
        "def get_weather_news_for_city(city: str, api_key: str) -> list:\n",
        "    \"\"\"\n",
        "    Strictly fetch weather-related news headlines for a city.\n",
        "    Filters aggressively to remove non-weather content.\n",
        "    \"\"\"\n",
        "    # Very weather-specific keywords (high precision)\n",
        "    weather_keywords = [\n",
        "        \"severe weather\", \"flash flood\", \"thunderstorm\", \"hailstorm\", \"tornado\", \"flood warning\",\n",
        "        \"weather alert\", \"storm damage\", \"strong winds\", \"heatwave\", \"blizzard\", \"snowfall\",\n",
        "        \"extreme temperatures\", \"wind advisory\", \"winter storm\", \"rainfall\", \"weather forecast\"\n",
        "    ]\n",
        "\n",
        "    # Build search query\n",
        "    keyword_query = \" OR \".join([f'\"{kw}\"' for kw in weather_keywords])\n",
        "    query = f'\"{city}\" AND ({keyword_query})'\n",
        "\n",
        "    url = (\n",
        "        f\"https://newsapi.org/v2/everything?\"\n",
        "        f\"q={requests.utils.quote(query)}\"\n",
        "        f\"&language=en&sortBy=publishedAt&pageSize=20&apiKey={api_key}\"\n",
        "    )\n",
        "\n",
        "    response = requests.get(url)\n",
        "    if response.status_code != 200:\n",
        "        return [f\"❌ Failed to fetch news: {response.status_code} - {response.text}\"]\n",
        "\n",
        "    articles = response.json().get(\"articles\", [])\n",
        "    city_lower = city.lower()\n",
        "    relevant = []\n",
        "\n",
        "    for article in articles:\n",
        "        title = article.get(\"title\", \"\").lower()\n",
        "        description = article.get(\"description\", \"\").lower()\n",
        "        content = article.get(\"content\", \"\").lower()\n",
        "        full_text = f\"{title} {description} {content}\"\n",
        "\n",
        "        # Skip if city is not clearly mentioned\n",
        "        if city_lower not in full_text:\n",
        "            continue\n",
        "\n",
        "        # Strict filter: must match a true weather phrase\n",
        "        matched = False\n",
        "        for kw in weather_keywords:\n",
        "            if kw in full_text:\n",
        "                matched = True\n",
        "                break\n",
        "\n",
        "        if not matched:\n",
        "            continue\n",
        "\n",
        "        # Final strict inclusion\n",
        "        headline = article.get(\"title\", \"\")\n",
        "        source = article.get(\"source\", {}).get(\"name\", \"\")\n",
        "        url = article.get(\"url\", \"\")\n",
        "        relevant.append(f\"📰 {headline} — {source}\\n🔗 {url}\")\n",
        "\n",
        "    return relevant if relevant else [f\"✅ {city.title()} is currently calm. No severe weather news reported.\"]\n",
        "\n",
        "\n",
        "\n",
        "\n",
        "def social_media_monitoring(state: WeatherState) -> WeatherState:\n",
        "    \"\"\"Uses simulated data in test mode, or fetches real news headlines using NewsAPI when live.\"\"\"\n",
        "    city = state[\"city\"]\n",
        "    messages = []\n",
        "    reports = []\n",
        "\n",
        "    if state.get(\"test_mode\"):\n",
        "        simulated_reports = [\n",
        "            \"Local reports of rising water levels and minor flooding.\",\n",
        "            \"High winds causing power outages in parts of the city.\",\n",
        "            \"Citizens reporting high temperatures and increased heat discomfort.\",\n",
        "            \"Social media reports indicate severe storm damage in local infrastructure.\",\n",
        "            \"Reports of traffic disruptions due to heavy rain.\",\n",
        "            \"No unusual social media reports related to the weather at this time.\"\n",
        "        ]\n",
        "        report = random.choice(simulated_reports)\n",
        "        reports.append(report)\n",
        "        messages.append(SystemMessage(content=f\"🧪 Simulated report added: {report}\"))\n",
        "\n",
        "    else:\n",
        "        api_key = os.getenv(\"NEWS_API_KEY\")\n",
        "        if not api_key:\n",
        "            fallback = f\"❌ NEWS_API_KEY not set. Cannot fetch real weather news for {city}.\"\n",
        "            reports.append(fallback)\n",
        "            messages.append(SystemMessage(content=fallback))\n",
        "        else:\n",
        "            try:\n",
        "                news_reports = get_weather_news_for_city(city, api_key)\n",
        "                reports.extend(news_reports)\n",
        "                messages.append(SystemMessage(content=f\"✅ Pulled {len(news_reports)} news headlines for {city}.\"))\n",
        "            except Exception as e:\n",
        "                error_msg = f\"❌ Error fetching news for {city}: {str(e)}\"\n",
        "                reports.append(error_msg)\n",
        "                messages.append(SystemMessage(content=error_msg))\n",
        "\n",
        "    return {\n",
        "        **state,\n",
        "        \"social_media_reports\": state[\"social_media_reports\"] + reports,\n",
        "        \"messages\": state[\"messages\"] + messages\n",
        "    }\n"
      ]
    },
    {
      "cell_type": "markdown",
      "metadata": {
        "id": "XTHCShmXwJ5q"
      },
      "source": [
        "#### **(c) Analyzing Disaster Type**\n"
      ]
    },
    {
      "cell_type": "code",
      "execution_count": null,
      "metadata": {
        "id": "cVJHq-C1wDyZ"
      },
      "outputs": [],
      "source": [
        "def analyze_disaster_type(state: WeatherState) -> WeatherState:\n",
        "    \"\"\"Analyze weather data to identify potential disasters\"\"\"\n",
        "    weather_data = state[\"weather_data\"]\n",
        "    prompt = ChatPromptTemplate.from_template(\n",
        "        \"Based on the following weather conditions, identify if there's a potential weather disaster.\\n\"\n",
        "        \"Weather conditions:\\n\"\n",
        "        \"- Description: {weather}\\n\"\n",
        "        \"- Wind Speed: {wind_speed} m/s\\n\"\n",
        "        \"- Temperature: {temperature}°C\\n\"\n",
        "        \"- Humidity: {humidity}%\\n\"\n",
        "        \"- Pressure: {pressure} hPa\\n\"\n",
        "        \"Categorize into one of these types: Hurricane, Flood, Heatwave, Severe Storm, Winter Storm, or No Immediate Threat\"\n",
        "    )\n",
        "\n",
        "    try:\n",
        "        chain = prompt | llm\n",
        "        disaster_type = chain.invoke(weather_data).content\n",
        "        return {\n",
        "            **state,\n",
        "            \"disaster_type\": disaster_type,\n",
        "            \"messages\": state[\"messages\"] + [SystemMessage(content=f\"Disaster type identified: {disaster_type}\")]\n",
        "        }\n",
        "    except Exception as e:\n",
        "        return {\n",
        "            **state,\n",
        "            \"disaster_type\": \"Analysis Failed\",\n",
        "            \"messages\": state[\"messages\"] + [SystemMessage(content=f\"Failed to analyze disaster type: {str(e)}\")]\n",
        "        }\n"
      ]
    },
    {
      "cell_type": "markdown",
      "metadata": {
        "id": "rvnoMEFLwOwe"
      },
      "source": [
        "#### **(d) Assess Severity Level**\n"
      ]
    },
    {
      "cell_type": "code",
      "execution_count": null,
      "metadata": {
        "id": "PmQZO2DAwMRY"
      },
      "outputs": [],
      "source": [
        "def assess_severity(state: WeatherState) -> WeatherState:\n",
        "    \"\"\"Assess the severity of the identified weather situation\"\"\"\n",
        "    weather_data = state[\"weather_data\"]\n",
        "    prompt = ChatPromptTemplate.from_template(\n",
        "        \"Given the weather conditions and identified disaster type '{disaster_type}', \"\n",
        "        \"assess the severity level. Consider:\\n\"\n",
        "        \"- Weather: {weather}\\n\"\n",
        "        \"- Wind Speed: {wind_speed} m/s\\n\"\n",
        "        \"- Temperature: {temperature}°C\\n\"\n",
        "        \"Respond with either 'Critical', 'High', 'Medium', or 'Low'.\"\n",
        "    )\n",
        "\n",
        "    try:\n",
        "        chain = prompt | llm\n",
        "        severity = chain.invoke({\n",
        "            \"disaster_type\": state[\"disaster_type\"],\n",
        "            \"weather\": weather_data.get(\"weather\", \"unknown\"),\n",
        "            \"wind_speed\": weather_data.get(\"wind_speed\", 0),\n",
        "            \"temperature\": weather_data.get(\"temperature\", 0)\n",
        "        }).content.strip()\n",
        "\n",
        "        return {\n",
        "            **state,\n",
        "            \"severity\": severity,\n",
        "            \"messages\": state[\"messages\"] + [SystemMessage(content=f\"Severity assessed as: {severity}\")]\n",
        "        }\n",
        "    except Exception as e:\n",
        "        return {\n",
        "            **state,\n",
        "            \"severity\": \"Assessment Failed\",\n",
        "            \"messages\": state[\"messages\"] + [SystemMessage(content=f\"Failed to assess severity: {str(e)}\")]\n",
        "        }\n",
        "\n"
      ]
    },
    {
      "cell_type": "markdown",
      "metadata": {
        "id": "610nnq9IwU25"
      },
      "source": [
        "#### **(e) Emergency Response**"
      ]
    },
    {
      "cell_type": "code",
      "execution_count": null,
      "metadata": {
        "id": "gVwWvA6fwT_A"
      },
      "outputs": [],
      "source": [
        "from datetime import datetime\n",
        "from zoneinfo import ZoneInfo\n",
        "\n",
        "local_time = datetime.now(ZoneInfo(\"America/Chicago\"))\n",
        "\n",
        "def emergency_response(state):\n",
        "    \"\"\"Generate emergency response plan with dynamic date and correct city injection\"\"\"\n",
        "    today = local_time.strftime('%Y-%m-%d %H:%M:%S')\n",
        "    disaster_type = state.get(\"disaster_type\", \"Unknown Disaster\")\n",
        "    severity = state.get(\"severity\", \"Unknown\")\n",
        "    city = state.get(\"city\", \"Unknown Location\")\n",
        "\n",
        "    try:\n",
        "        prompt = ChatPromptTemplate.from_template(\n",
        "            \"Create an emergency response plan for a {disaster_type} situation \"\n",
        "            \"with {severity} severity level in {city} on {date}. \"\n",
        "            \"Ensure the city name {city} appears throughout the response, especially in headings like 'Date', 'Incident', and 'Action Plan'.\"\n",
        "        )\n",
        "        chain = prompt | llm\n",
        "        response = chain.invoke({\n",
        "            \"disaster_type\": disaster_type,\n",
        "            \"severity\": severity,\n",
        "            \"city\": city,\n",
        "            \"date\": today\n",
        "        }).content\n",
        "\n",
        "        return {\n",
        "            **state,\n",
        "            \"response\": response,\n",
        "            \"messages\": state[\"messages\"] + [SystemMessage(content=\"Emergency response plan generated\")]\n",
        "        }\n",
        "\n",
        "    except Exception as e:\n",
        "        return {\n",
        "            **state,\n",
        "            \"response\": \"Failed to generate response plan\",\n",
        "            \"messages\": state[\"messages\"] + [SystemMessage(content=f\"Failed to generate emergency response: {str(e)}\")]\n",
        "        }\n"
      ]
    },
    {
      "cell_type": "markdown",
      "metadata": {
        "id": "H5Yy2gDtwd9G"
      },
      "source": [
        "#### **(f) Civil Defense Response**"
      ]
    },
    {
      "cell_type": "code",
      "execution_count": null,
      "metadata": {
        "id": "k3tv3joHwYfI"
      },
      "outputs": [],
      "source": [
        "from datetime import datetime\n",
        "from zoneinfo import ZoneInfo\n",
        "\n",
        "local_time = datetime.now(ZoneInfo(\"America/Chicago\"))\n",
        "\n",
        "\n",
        "\n",
        "def civil_defense_response(state):\n",
        "    \"\"\"Generate civil defense response plan with dynamic date and correct city injection\"\"\"\n",
        "    today = local_time.strftime('%Y-%m-%d %H:%M:%S')\n",
        "    disaster_type = state.get(\"disaster_type\", \"Unknown Disaster\")\n",
        "    severity = state.get(\"severity\", \"Unknown\")\n",
        "    city = state.get(\"city\", \"Unknown Location\")\n",
        "\n",
        "    try:\n",
        "        prompt = ChatPromptTemplate.from_template(\n",
        "            \"Create a civil defense response plan for a {disaster_type} situation \"\n",
        "            \"with {severity} severity level in {city} on {date}. \"\n",
        "            \"Mention the city name {city} in all major sections including 'Date', 'Incident', and 'Preparedness Summary'.\"\n",
        "        )\n",
        "        chain = prompt | llm\n",
        "        response = chain.invoke({\n",
        "            \"disaster_type\": disaster_type,\n",
        "            \"severity\": severity,\n",
        "            \"city\": city,\n",
        "            \"date\": today\n",
        "        }).content\n",
        "\n",
        "        return {\n",
        "            **state,\n",
        "            \"response\": response,\n",
        "            \"messages\": state[\"messages\"] + [SystemMessage(content=\"Civil defense response plan generated\")]\n",
        "        }\n",
        "\n",
        "    except Exception as e:\n",
        "        return {\n",
        "            **state,\n",
        "            \"response\": \"Failed to generate response plan\",\n",
        "            \"messages\": state[\"messages\"] + [SystemMessage(content=f\"Failed to generate civil defense response: {str(e)}\")]\n",
        "        }\n"
      ]
    },
    {
      "cell_type": "markdown",
      "metadata": {
        "id": "W3pjDGfWwjIL"
      },
      "source": [
        "#### **(g) Public Works Response**"
      ]
    },
    {
      "cell_type": "code",
      "execution_count": null,
      "metadata": {
        "id": "V7k4lpolwgV9"
      },
      "outputs": [],
      "source": [
        "from datetime import datetime\n",
        "from zoneinfo import ZoneInfo\n",
        "\n",
        "local_time = datetime.now(ZoneInfo(\"America/Chicago\"))\n",
        "\n",
        "\n",
        "def public_works_response(state):\n",
        "    \"\"\"Generate public works response plan with dynamic date and correct city injection\"\"\"\n",
        "    today = local_time.strftime('%Y-%m-%d %H:%M:%S')\n",
        "    disaster_type = state.get(\"disaster_type\", \"Unknown Disaster\")\n",
        "    severity = state.get(\"severity\", \"Unknown\")\n",
        "    city = state.get(\"city\", \"Unknown Location\")\n",
        "\n",
        "    try:\n",
        "        prompt = ChatPromptTemplate.from_template(\n",
        "            \"Create a public works response plan for a {disaster_type} situation \"\n",
        "            \"with {severity} severity level in {city} on {date}. \"\n",
        "            \"Ensure the city name {city} is included in headings like 'Date', 'Incident Summary', and in all key bullet points.\"\n",
        "        )\n",
        "        chain = prompt | llm\n",
        "        response = chain.invoke({\n",
        "            \"disaster_type\": disaster_type,\n",
        "            \"severity\": severity,\n",
        "            \"city\": city,\n",
        "            \"date\": today\n",
        "        }).content\n",
        "\n",
        "        return {\n",
        "            **state,\n",
        "            \"response\": response,\n",
        "            \"messages\": state[\"messages\"] + [SystemMessage(content=\"Public works response plan generated\")]\n",
        "        }\n",
        "\n",
        "    except Exception as e:\n",
        "        return {\n",
        "            **state,\n",
        "            \"response\": \"Failed to generate response plan\",\n",
        "            \"messages\": state[\"messages\"] + [SystemMessage(content=f\"Failed to generate public works response: {str(e)}\")]\n",
        "        }\n"
      ]
    },
    {
      "cell_type": "markdown",
      "metadata": {
        "id": "yOBUB08Qwn_n"
      },
      "source": [
        "#### **(h) Data Logging**"
      ]
    },
    {
      "cell_type": "code",
      "execution_count": null,
      "metadata": {
        "id": "RtKPlsibwlvu"
      },
      "outputs": [],
      "source": [
        "\n",
        "\n",
        "def data_logging(state: WeatherState) -> WeatherState:\n",
        "    \"\"\"Log weather data, disaster analysis, and response to a file.\"\"\"\n",
        "    log_data = {\n",
        "        \"timestamp\": local_time.strftime('%H:%M:%S'),\n",
        "        \"city\": state[\"city\"],\n",
        "        \"weather_data\": state[\"weather_data\"],\n",
        "        \"disaster_type\": state[\"disaster_type\"],\n",
        "        \"severity\": state[\"severity\"],\n",
        "        \"response\": state[\"response\"],\n",
        "        \"social_media_reports\": state[\"social_media_reports\"]\n",
        "    }\n",
        "\n",
        "    try:\n",
        "        with open(\"disaster_log.txt\", \"a\") as log_file:\n",
        "            log_file.write(json.dumps(log_data) + \"\\n\")\n",
        "\n",
        "        return {\n",
        "            **state,\n",
        "            \"messages\": state[\"messages\"] + [SystemMessage(content=\"Data logged successfully\")]\n",
        "        }\n",
        "    except Exception as e:\n",
        "        return {\n",
        "            **state,\n",
        "            \"messages\": state[\"messages\"] + [SystemMessage(content=f\"Failed to log data: {str(e)}\")]\n",
        "        }\n",
        "\n"
      ]
    },
    {
      "cell_type": "markdown",
      "metadata": {
        "id": "LPP6Qmhswseq"
      },
      "source": [
        "#### **(j) Get Human Verification**"
      ]
    },
    {
      "cell_type": "code",
      "execution_count": null,
      "metadata": {
        "id": "8ttZ68wkwqYM"
      },
      "outputs": [],
      "source": [
        "def get_human_verification(state: WeatherState) -> WeatherState:\n",
        "    \"\"\"Get human verification for low/medium severity alerts\"\"\"\n",
        "    severity = state[\"severity\"].strip().lower()\n",
        "\n",
        "    # ✅ Skip human verification in test mode\n",
        "    if state.get(\"test_mode\"):\n",
        "        return {\n",
        "            **state,\n",
        "            \"human_approved\": True,\n",
        "            \"messages\": state[\"messages\"] + [\n",
        "                SystemMessage(content=\"✅ Skipping human approval in test mode\")\n",
        "            ]\n",
        "        }\n",
        "\n",
        "    if severity in [\"low\", \"medium\"]:\n",
        "        print(\"\\n\" + \"=\"*50)\n",
        "        print(f\"Low/Medium severity alert for {state['city']} requires human approval:\")\n",
        "        print(f\"Disaster Type: {state['disaster_type']}\")\n",
        "        print(f\"Current Weather: {state['weather_data']['weather']}\")\n",
        "        print(f\"Temperature: {state['weather_data']['temperature']}°C\")\n",
        "        print(f\"Wind Speed: {state['weather_data']['wind_speed']} m/s\")\n",
        "        print(f\"Severity: {state['severity']}\")\n",
        "        print(f\"Response Plan: {state['response']}\")\n",
        "        print(\"\\nType 'y' to approve sending alert or 'n' to reject (waiting for input):\")\n",
        "        print(\"=\"*50)\n",
        "\n",
        "        while True:\n",
        "            try:\n",
        "                user_input = input().lower().strip()\n",
        "                if user_input in ['y', 'n']:\n",
        "                    approved = user_input == 'y'\n",
        "                    print(f\"Human verification result: {'Approved' if approved else 'Rejected'}\")\n",
        "                    break\n",
        "                else:\n",
        "                    print(\"Please enter 'y' for yes or 'n' for no:\")\n",
        "            except Exception as e:\n",
        "                print(f\"Error reading input: {str(e)}\")\n",
        "                print(\"Please try again with 'y' or 'n':\")\n",
        "\n",
        "        return {\n",
        "            **state,\n",
        "            \"human_approved\": approved,\n",
        "            \"messages\": state[\"messages\"] + [\n",
        "                SystemMessage(content=f\"Human verification: {'Approved' if approved else 'Rejected'}\")\n",
        "            ]\n",
        "        }\n",
        "    else:\n",
        "        return {\n",
        "            **state,\n",
        "            \"human_approved\": True,\n",
        "            \"messages\": state[\"messages\"] + [\n",
        "                SystemMessage(content=f\"Auto-approved {severity} severity alert\")\n",
        "            ]\n",
        "        }\n",
        "\n",
        "\n"
      ]
    },
    {
      "cell_type": "markdown",
      "metadata": {
        "id": "Soxd-84ewyUz"
      },
      "source": [
        "#### **(k) Send Email Alert**"
      ]
    },
    {
      "cell_type": "code",
      "execution_count": null,
      "metadata": {
        "id": "k8H2VYMRwux0"
      },
      "outputs": [],
      "source": [
        "def send_email_alert(state: WeatherState) -> WeatherState:\n",
        "    \"\"\"Send weather alert email using secure SSL connection\"\"\"\n",
        "    import smtplib\n",
        "    from email.mime.text import MIMEText\n",
        "    from email.mime.multipart import MIMEMultipart\n",
        "    from datetime import datetime\n",
        "    from langchain_core.messages import SystemMessage\n",
        "\n",
        "    sender_email = os.getenv(\"SENDER_EMAIL\")\n",
        "    receiver_email = os.getenv(\"RECEIVER_EMAIL\")\n",
        "    password = os.getenv(\"EMAIL_PASSWORD\")\n",
        "\n",
        "    msg = MIMEMultipart()\n",
        "    msg['From'] = sender_email\n",
        "    msg['To'] = receiver_email\n",
        "    msg['Subject'] = f\"Weather Alert: {state['severity']} severity weather event in {state['city']}\"\n",
        "\n",
        "    body = format_weather_email(state)\n",
        "    msg.attach(MIMEText(body, 'plain'))\n",
        "\n",
        "    try:\n",
        "        print(f\"Attempting to send email from {sender_email} to {receiver_email} via SSL...\")\n",
        "        server = smtplib.SMTP_SSL(\"smtp.gmail.com\", 465)\n",
        "        server.set_debuglevel(1)\n",
        "        server.login(sender_email, password)\n",
        "        server.sendmail(sender_email, receiver_email, msg.as_string())\n",
        "        server.quit()\n",
        "\n",
        "        severity = state[\"severity\"].strip().lower()\n",
        "        if severity in [\"low\", \"medium\"]:\n",
        "            print(f\"\\nVerification was approved by human, Email sent to {receiver_email} successfully\")\n",
        "        else:\n",
        "            print(f\"\\nEmail sent successfully for high severity alert to {receiver_email}\")\n",
        "\n",
        "        return {\n",
        "            **state,\n",
        "            \"messages\": state[\"messages\"] + [SystemMessage(content=f\"Successfully sent weather alert email for {state['city']}\")],\n",
        "            \"alerts\": state[\"alerts\"] + [f\"Email alert sent: { local_time.now()}\"]\n",
        "        }\n",
        "\n",
        "    except Exception as e:\n",
        "        print(f\"EMAIL ERROR: {str(e)}\")\n",
        "        return {\n",
        "            **state,\n",
        "            \"messages\": state[\"messages\"] + [SystemMessage(content=f\"Failed to send email alert: {str(e)}\")]\n",
        "        }\n"
      ]
    },
    {
      "cell_type": "markdown",
      "metadata": {
        "id": "8IZxMQxCw4f1"
      },
      "source": [
        "#### **(l) Handle No Approval From Human**"
      ]
    },
    {
      "cell_type": "code",
      "execution_count": null,
      "metadata": {
        "id": "U-94qKtxw1_3"
      },
      "outputs": [],
      "source": [
        "def handle_no_approval(state: WeatherState) -> WeatherState:\n",
        "    \"\"\"Handle cases where human verification was rejected\"\"\"\n",
        "    print(\"\\nVerification was not approved by human, Email not sent\")\n",
        "\n",
        "    message = (\n",
        "        f\"Alert not sent for {state['city']} - \"\n",
        "        f\"Weather severity level '{state['severity']}' was deemed non-critical \"\n",
        "        f\"by human operator and verification was rejected.\"\n",
        "    )\n",
        "    return {\n",
        "        **state,\n",
        "        \"messages\": state[\"messages\"] + [SystemMessage(content=message)]\n",
        "    }"
      ]
    },
    {
      "cell_type": "markdown",
      "metadata": {
        "id": "D4yQSWZLxH9R"
      },
      "source": [
        "#### **(m) Route Response for Disaster Type and Severity**"
      ]
    },
    {
      "cell_type": "code",
      "execution_count": null,
      "metadata": {
        "id": "Wu78uTclw65E"
      },
      "outputs": [],
      "source": [
        "def route_response(state: WeatherState) -> Literal[\"emergency_response\", \"civil_defense_response\", \"public_works_response\"]:\n",
        "    \"\"\"Route to appropriate department based on disaster type and severity\"\"\"\n",
        "    disaster = state[\"disaster_type\"].strip().lower()\n",
        "    severity = state[\"severity\"].strip().lower()\n",
        "\n",
        "    if severity in [\"critical\", \"high\"]:\n",
        "        return \"emergency_response\"\n",
        "    elif \"flood\" in disaster or \"storm\" in disaster:\n",
        "        return \"public_works_response\"\n",
        "    else:\n",
        "        return \"civil_defense_response\"\n"
      ]
    },
    {
      "cell_type": "markdown",
      "metadata": {
        "id": "U0rmvjiH02hG"
      },
      "source": [
        "#### **(n) Verify Approval Route after Human Verification**"
      ]
    },
    {
      "cell_type": "code",
      "execution_count": null,
      "metadata": {
        "id": "MiXDkuHxxKRU"
      },
      "outputs": [],
      "source": [
        "def verify_approval_router(state: WeatherState) -> Literal[\"send_email_alert\", \"handle_no_approval\"]:\n",
        "    \"\"\"Route based on human approval decision\"\"\"\n",
        "    return \"send_email_alert\" if state['human_approved'] else \"handle_no_approval\"\n",
        "\n"
      ]
    },
    {
      "cell_type": "markdown",
      "metadata": {
        "id": "jHOuO-Qu070z"
      },
      "source": [
        "#### **(p) Format Weather Email**"
      ]
    },
    {
      "cell_type": "code",
      "execution_count": null,
      "metadata": {
        "id": "dERyd6Q_06j7"
      },
      "outputs": [],
      "source": [
        "from datetime import datetime\n",
        "\n",
        "def format_weather_email(state: WeatherState) -> str:\n",
        "    \"\"\"Format weather data and severity assessment into an email message\"\"\"\n",
        "    weather_data = state[\"weather_data\"]\n",
        "    social_media_reports = \"\\n\".join(state[\"social_media_reports\"])\n",
        "\n",
        "    email_content = f\"\"\"\n",
        "Weather Alert for {state['city']}\n",
        "\n",
        "Disaster Type: {state['disaster_type']}\n",
        "Severity Level: {state['severity']}\n",
        "\n",
        "Current Weather Conditions:\n",
        "- Weather Description: {weather_data['weather']}\n",
        "- Temperature: {weather_data['temperature']}°C\n",
        "- Wind Speed: {weather_data['wind_speed']} m/s\n",
        "- Humidity: {weather_data['humidity']}%\n",
        "- Pressure: {weather_data['pressure']} hPa\n",
        "- Cloud Cover: {weather_data['cloud_cover']}%\n",
        "\n",
        "Social Media Reports:\n",
        "{social_media_reports}\n",
        "\n",
        "Response Plan:\n",
        "{state['response']}\n",
        "\n",
        "This is an automated weather alert generated at {local_time.strftime('%Y-%m-%d %H:%M:%S')}\n",
        "\"\"\"\n",
        "\n",
        "    if state['severity'].lower() in ['low', 'medium']:\n",
        "        email_content += \"\\nNote: This low/medium severity alert has been verified by a human operator.\"\n",
        "\n",
        "    return email_content\n"
      ]
    },
    {
      "cell_type": "markdown",
      "metadata": {
        "id": "Pjklq4hP1ALR"
      },
      "source": [
        "## **5. Creating and Compiling the Workflow**"
      ]
    },
    {
      "cell_type": "code",
      "execution_count": null,
      "metadata": {
        "id": "_2QtwL1b07JI"
      },
      "outputs": [],
      "source": [
        "# Create the workflow\n",
        "workflow = StateGraph(WeatherState)\n",
        "\n",
        "# Add nodes\n",
        "workflow.add_node(\"get_weather\", get_weather_data)\n",
        "workflow.add_node(\"social_media_monitoring\", social_media_monitoring)\n",
        "workflow.add_node(\"analyze_disaster\", analyze_disaster_type)\n",
        "workflow.add_node(\"assess_severity\", assess_severity)\n",
        "workflow.add_node(\"data_logging\", data_logging)\n",
        "workflow.add_node(\"emergency_response\", emergency_response)\n",
        "workflow.add_node(\"civil_defense_response\", civil_defense_response)\n",
        "workflow.add_node(\"public_works_response\", public_works_response)\n",
        "workflow.add_node(\"get_human_verification\", get_human_verification)\n",
        "workflow.add_node(\"send_email_alert\", send_email_alert)\n",
        "workflow.add_node(\"handle_no_approval\", handle_no_approval)\n",
        "\n",
        "# Add edges\n",
        "workflow.add_edge(\"get_weather\", \"social_media_monitoring\")\n",
        "workflow.add_edge(\"social_media_monitoring\", \"analyze_disaster\")\n",
        "workflow.add_edge(\"analyze_disaster\", \"assess_severity\")\n",
        "workflow.add_edge(\"assess_severity\", \"data_logging\")\n",
        "workflow.add_conditional_edges(\"data_logging\", route_response)\n",
        "\n",
        "workflow.add_edge(\"civil_defense_response\", \"get_human_verification\")\n",
        "workflow.add_edge(\"public_works_response\", \"get_human_verification\")\n",
        "workflow.add_conditional_edges(\"get_human_verification\", verify_approval_router)\n",
        "workflow.add_edge(\"emergency_response\", \"send_email_alert\")\n",
        "workflow.add_edge(\"send_email_alert\", END)\n",
        "workflow.add_edge(\"handle_no_approval\", END)\n",
        "\n",
        "workflow.set_entry_point(\"get_weather\")\n",
        "\n",
        "# Compile the workflow\n",
        "app = workflow.compile()"
      ]
    },
    {
      "cell_type": "markdown",
      "metadata": {
        "id": "vCR1CJJz1HeE"
      },
      "source": [
        "##  **6 Running the Weather Emergency System**"
      ]
    },
    {
      "cell_type": "markdown",
      "metadata": {
        "id": "d6E4wrEF1KYI"
      },
      "source": [
        "#### **(a) run_weather_emergency_system(city: str):**"
      ]
    },
    {
      "cell_type": "code",
      "execution_count": null,
      "metadata": {
        "id": "hVMHzaTi1Gzb"
      },
      "outputs": [],
      "source": [
        "def run_weather_emergency_system(city: str):\n",
        "    \"\"\"Initialize and run the weather emergency system for a given city\"\"\"\n",
        "    initial_state = {\n",
        "        \"city\": city,\n",
        "        \"weather_data\": {},\n",
        "        \"disaster_type\": \"\",\n",
        "        \"severity\": \"\",\n",
        "        \"response\": \"\",\n",
        "        \"messages\": [],\n",
        "        \"alerts\": [],\n",
        "        \"social_media_reports\": [],\n",
        "        \"human_approved\": False,\n",
        "        \"test_mode\": False  # <-- Important\n",
        "    }\n",
        "\n",
        "    try:\n",
        "        result = app.invoke(initial_state)\n",
        "        print(f\"Completed weather check for {city}\")\n",
        "        return result\n",
        "    except Exception as e:\n",
        "        print(f\"Error running weather emergency system: {str(e)}\")"
      ]
    },
    {
      "cell_type": "markdown",
      "metadata": {
        "id": "IufMS5wO1P2w"
      },
      "source": [
        "#### **(b) Get Simulated Weather Data:**"
      ]
    },
    {
      "cell_type": "code",
      "execution_count": null,
      "metadata": {
        "id": "cGZ294oJ1NZq"
      },
      "outputs": [],
      "source": [
        "def get_simulated_weather_data(scenario: str = \"high\") -> Dict:\n",
        "    \"\"\"Generate simulated weather data for testing different scenarios\"\"\"\n",
        "    scenarios = {\n",
        "        \"high\": {\n",
        "            \"weather\": \"severe thunderstorm with heavy rainfall and strong winds\",\n",
        "            \"wind_speed\": 32.5,  # Increased for high severity\n",
        "            \"cloud_cover\": 95,\n",
        "            \"sea_level\": 1015,\n",
        "            \"temperature\": 35.5,  # Higher temperature\n",
        "            \"humidity\": 90,\n",
        "            \"pressure\": 960  # Low pressure indicating severe weather\n",
        "        },\n",
        "        \"medium\": {\n",
        "            \"weather\": \"moderate rain with gusty winds\",\n",
        "            \"wind_speed\": 15.2,\n",
        "            \"cloud_cover\": 75,\n",
        "            \"sea_level\": 1012,\n",
        "            \"temperature\": 22.3,\n",
        "            \"humidity\": 70,\n",
        "            \"pressure\": 1005\n",
        "        },\n",
        "        \"low\": {\n",
        "            \"weather\": \"light drizzle\",\n",
        "            \"wind_speed\": 8.5,\n",
        "            \"cloud_cover\": 45,\n",
        "            \"sea_level\": 1013,\n",
        "            \"temperature\": 20.1,\n",
        "            \"humidity\": 60,\n",
        "            \"pressure\": 1015\n",
        "        }\n",
        "    }\n",
        "\n",
        "    return scenarios.get(scenario.lower(), scenarios[\"medium\"])\n"
      ]
    },
    {
      "cell_type": "markdown",
      "metadata": {
        "id": "4CuvW8vr1UlW"
      },
      "source": [
        "#### **(c) Run Weather Emergency System Test**"
      ]
    },
    {
      "cell_type": "code",
      "execution_count": null,
      "metadata": {
        "id": "YXCTe_BK1Siz"
      },
      "outputs": [],
      "source": [
        "def run_weather_emergency_system_test(city: str, scenario: str = \"high\") -> dict:\n",
        "    \"\"\"Test the weather emergency system with simulated data\"\"\"\n",
        "    initial_state = {\n",
        "        \"city\": city,\n",
        "        \"weather_data\": get_simulated_weather_data(scenario),\n",
        "        \"disaster_type\": \"\",\n",
        "        \"severity\": \"\",\n",
        "        \"response\": \"\",\n",
        "        \"messages\": [],\n",
        "        \"alerts\": [],\n",
        "        \"social_media_reports\": [],\n",
        "        \"human_approved\": False,\n",
        "        \"test_mode\": True  # ✅ Ensure test mode is enabled\n",
        "    }\n",
        "\n",
        "    return app.invoke(initial_state)"
      ]
    },
    {
      "cell_type": "markdown",
      "metadata": {
        "id": "dziBZz2v1cRE"
      },
      "source": [
        "#### **(d) Run Main Function**"
      ]
    },
    {
      "cell_type": "markdown",
      "metadata": {
        "id": "TfeyMQCy1fyL"
      },
      "source": [
        "\n",
        "### **Note:** you can change or include cities and receiver emails with yours to check that Whether email notifications are working or not"
      ]
    },
    {
      "cell_type": "code",
      "execution_count": null,
      "metadata": {
        "colab": {
          "base_uri": "https://localhost:8080/"
        },
        "id": "gDuVaZLW1Ym6",
        "outputId": "e1205e94-8811-4081-e6bd-9371ed314b7e"
      },
      "outputs": [
        {
          "name": "stdout",
          "output_type": "stream",
          "text": [
            "\n",
            "Weather Emergency Response System\n",
            "1. Run normal monitoring\n",
            "2. Run test with simulated data\n",
            "Select mode (1 or 2): 1\n",
            "\n",
            "Enter comma-separated cities to monitor (e.g., Austin, Illinois): College Station\n",
            "Monitoring these cities: ['College Station']\n",
            "Weather Emergency Response System started.\n",
            "Monitoring scheduled for every minute...\n",
            "\n",
            "🚨 Starting scheduled check at 2025-05-02 18:46:16\n",
            "\n",
            "🚨 Checking weather conditions for: College Station\n",
            "\n",
            "==================================================\n",
            "Low/Medium severity alert for College Station requires human approval:\n",
            "Disaster Type: The most likely potential weather disaster is **Flood**.  Heavy rain with high humidity increases the likelihood of significant rainfall accumulation and potential flooding. While the wind speed is moderate, it's not indicative of a hurricane or severe storm. The temperature and pressure are not extreme enough for a heatwave or winter storm.\n",
            "Current Weather: heavy intensity rain\n",
            "Temperature: 18.33°C\n",
            "Wind Speed: 8.13 m/s\n",
            "Severity: Medium\n",
            "Response Plan: **College Station Public Works Department – Flood Response Plan**\n",
            "\n",
            "**Date:** 2025-05-02 18:46:16\n",
            "\n",
            "**Incident Summary:** Medium-severity flooding event impacting College Station due to heavy rainfall.\n",
            "\n",
            "**Severity Level:** Medium\n",
            "\n",
            "**Phase 1: Initial Response (Activation Time: Upon confirmation of flooding)**\n",
            "\n",
            "* **Notification:**\n",
            "    * Activate the College Station Emergency Operations Center (EOC).\n",
            "    * Notify relevant departments (Police, Fire, Emergency Management, Parks & Recreation).\n",
            "    * Issue public alerts via social media, local news outlets, and the city's emergency notification system, advising residents of flooded areas and recommending precautionary measures in College Station.\n",
            "* **Assessment:**\n",
            "    * Public Works crews will conduct rapid assessments of affected areas in College Station, identifying locations with significant water accumulation, blocked drainage systems, and potential hazards.\n",
            "    * Prioritize areas with vulnerable populations (nursing homes, hospitals).\n",
            "    * Assess the status of critical infrastructure (roads, bridges, power lines).\n",
            "* **Initial Actions:**\n",
            "    * Deploy crews to clear debris from storm drains and culverts in College Station to improve drainage.\n",
            "    * Deploy high-water vehicles to assist with rescue operations if necessary in College Station.\n",
            "    * Establish temporary road closures where necessary in College Station to ensure public safety.\n",
            "\n",
            "\n",
            "**Phase 2: Sustained Response (Ongoing until floodwaters recede)**\n",
            "\n",
            "* **Resource Management:**\n",
            "    * Continue monitoring rainfall and river levels.\n",
            "    * Request additional resources from neighboring municipalities or state agencies if needed for College Station.\n",
            "    * Secure sandbags and other flood mitigation supplies for distribution in College Station.\n",
            "* **Public Safety:**\n",
            "    * Maintain road closures and detours as needed in College Station.\n",
            "    * Coordinate with Police and Fire departments for rescue and evacuation operations in College Station, if necessary.\n",
            "    * Provide updates to the public on the evolving situation in College Station via all available communication channels.\n",
            "* **Damage Assessment:**\n",
            "    * Begin preliminary damage assessments of public infrastructure and private property in College Station.\n",
            "    * Document all damages with photographic and video evidence.\n",
            "\n",
            "\n",
            "**Phase 3: Recovery (Post-Flood)**\n",
            "\n",
            "* **Debris Removal:**\n",
            "    * Organize and execute a comprehensive debris removal plan for College Station, prioritizing hazardous materials.\n",
            "    * Establish designated drop-off points for debris.\n",
            "* **Infrastructure Repair:**\n",
            "    * Assess damage to roads, bridges, and other infrastructure in College Station and prioritize repairs.\n",
            "    * Coordinate with utility companies to restore services.\n",
            "* **Long-Term Mitigation:**\n",
            "    * Review the effectiveness of the current flood mitigation strategies in College Station.\n",
            "    * Develop and implement strategies to improve drainage systems and reduce future flood risks in College Station.\n",
            "    * Collaborate with residents and businesses to promote flood preparedness.\n",
            "\n",
            "\n",
            "**Communication Plan:**\n",
            "\n",
            "* Regular updates to the public through press releases, social media, and the city website.\n",
            "* Dedicated hotline for residents to report flood-related issues in College Station.\n",
            "* Coordination with local media outlets to ensure accurate and timely information dissemination.\n",
            "\n",
            "\n",
            "**Contact Information:**  [Insert relevant contact information for College Station Public Works Department and Emergency Management]\n",
            "\n",
            "\n",
            "This plan will be reviewed and updated regularly to ensure its effectiveness in responding to future flood events in College Station.\n",
            "\n",
            "Type 'y' to approve sending alert or 'n' to reject (waiting for input):\n",
            "==================================================\n",
            "y\n",
            "Human verification result: Approved\n",
            "Attempting to send email from AI.Project.625@gmail.com to dyavadi324@gmail.com via SSL...\n"
          ]
        },
        {
          "name": "stderr",
          "output_type": "stream",
          "text": [
            "send: 'ehlo [172.28.0.12]\\r\\n'\n",
            "reply: b'250-smtp.gmail.com at your service, [34.139.18.222]\\r\\n'\n",
            "reply: b'250-SIZE 35882577\\r\\n'\n",
            "reply: b'250-8BITMIME\\r\\n'\n",
            "reply: b'250-AUTH LOGIN PLAIN XOAUTH2 PLAIN-CLIENTTOKEN OAUTHBEARER XOAUTH\\r\\n'\n",
            "reply: b'250-ENHANCEDSTATUSCODES\\r\\n'\n",
            "reply: b'250-PIPELINING\\r\\n'\n",
            "reply: b'250-CHUNKING\\r\\n'\n",
            "reply: b'250 SMTPUTF8\\r\\n'\n",
            "reply: retcode (250); Msg: b'smtp.gmail.com at your service, [34.139.18.222]\\nSIZE 35882577\\n8BITMIME\\nAUTH LOGIN PLAIN XOAUTH2 PLAIN-CLIENTTOKEN OAUTHBEARER XOAUTH\\nENHANCEDSTATUSCODES\\nPIPELINING\\nCHUNKING\\nSMTPUTF8'\n",
            "send: 'AUTH PLAIN AEFJLlByb2plY3QuNjI1QGdtYWlsLmNvbQBubHJzIHhoYmIgaGpqZCB2aWR6\\r\\n'\n",
            "reply: b'235 2.7.0 Accepted\\r\\n'\n",
            "reply: retcode (235); Msg: b'2.7.0 Accepted'\n",
            "send: 'mail FROM:<AI.Project.625@gmail.com> size=6542\\r\\n'\n",
            "reply: b'250 2.1.0 OK 71dfb90a1353d-52ae403caecsm710874e0c.28 - gsmtp\\r\\n'\n",
            "reply: retcode (250); Msg: b'2.1.0 OK 71dfb90a1353d-52ae403caecsm710874e0c.28 - gsmtp'\n",
            "send: 'rcpt TO:<dyavadi324@gmail.com>\\r\\n'\n",
            "reply: b'250 2.1.5 OK 71dfb90a1353d-52ae403caecsm710874e0c.28 - gsmtp\\r\\n'\n",
            "reply: retcode (250); Msg: b'2.1.5 OK 71dfb90a1353d-52ae403caecsm710874e0c.28 - gsmtp'\n",
            "send: 'data\\r\\n'\n",
            "reply: b'354 Go ahead 71dfb90a1353d-52ae403caecsm710874e0c.28 - gsmtp\\r\\n'\n",
            "reply: retcode (354); Msg: b'Go ahead 71dfb90a1353d-52ae403caecsm710874e0c.28 - gsmtp'\n",
            "data: (354, b'Go ahead 71dfb90a1353d-52ae403caecsm710874e0c.28 - gsmtp')\n",
            "send: b'Content-Type: multipart/mixed; boundary=\"===============1412714156915620081==\"\\r\\nMIME-Version: 1.0\\r\\nFrom: AI.Project.625@gmail.com\\r\\nTo: dyavadi324@gmail.com\\r\\nSubject: Weather Alert: Medium severity weather event in College Station\\r\\n\\r\\n--===============1412714156915620081==\\r\\nContent-Type: text/plain; charset=\"utf-8\"\\r\\nMIME-Version: 1.0\\r\\nContent-Transfer-Encoding: base64\\r\\n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\\r\\ndmVyaWZpZWQgYnkgYSBodW1hbiBvcGVyYXRvci4=\\r\\n\\r\\n--===============1412714156915620081==--\\r\\n.\\r\\n'\n",
            "reply: b'250 2.0.0 OK  1746230105 71dfb90a1353d-52ae403caecsm710874e0c.28 - gsmtp\\r\\n'\n",
            "reply: retcode (250); Msg: b'2.0.0 OK  1746230105 71dfb90a1353d-52ae403caecsm710874e0c.28 - gsmtp'\n",
            "data: (250, b'2.0.0 OK  1746230105 71dfb90a1353d-52ae403caecsm710874e0c.28 - gsmtp')\n",
            "send: 'quit\\r\\n'\n",
            "reply: b'221 2.0.0 closing connection 71dfb90a1353d-52ae403caecsm710874e0c.28 - gsmtp\\r\\n'\n",
            "reply: retcode (221); Msg: b'2.0.0 closing connection 71dfb90a1353d-52ae403caecsm710874e0c.28 - gsmtp'\n"
          ]
        },
        {
          "name": "stdout",
          "output_type": "stream",
          "text": [
            "\n",
            "Verification was approved by human, Email sent to dyavadi324@gmail.com successfully\n",
            "Completed weather check for College Station\n",
            "\n",
            "Shutting down Weather Emergency Response System...\n"
          ]
        }
      ],
      "source": [
        "import schedule\n",
        "schedule.clear()\n",
        "\n",
        "def main():\n",
        "    \"\"\"Main function to run the weather emergency system\"\"\"\n",
        "    os.environ[\"SENDER_EMAIL\"] = \"AI.Project.625@gmail.com\"\n",
        "    os.environ[\"RECEIVER_EMAIL\"] = \"dyavadi324@gmail.com\"\n",
        "    os.environ[\"EMAIL_PASSWORD\"] = \"nlrs xhbb hjjd vidz\"\n",
        "\n",
        "    print(\"\\nWeather Emergency Response System\")\n",
        "    print(\"1. Run normal monitoring\")\n",
        "    print(\"2. Run test with simulated data\")\n",
        "    choice = input(\"Select mode (1 or 2): \")\n",
        "\n",
        "    if choice == \"2\":\n",
        "        print(\"\\nSelect test scenario:\")\n",
        "        print(\"1. High severity (no human verification needed)\")\n",
        "        print(\"2. Medium severity (requires human verification)\")\n",
        "        print(\"3. Low severity (requires human verification)\")\n",
        "\n",
        "        scenario_choice = input(\"Select scenario (1, 2, or 3): \")\n",
        "        scenario_map = {\"1\": \"high\", \"2\": \"medium\", \"3\": \"low\"}\n",
        "        scenario = scenario_map.get(scenario_choice, \"medium\")\n",
        "\n",
        "        city = input(\"\\nEnter city name for test: \").strip()\n",
        "        print(f\"\\nRunning test scenario: {scenario.upper()} severity for {city}\")\n",
        "        run_weather_emergency_system_test(city, scenario)\n",
        "\n",
        "    else:\n",
        "        # Accept comma-separated cities from the user\n",
        "        raw_input = input(\"\\nEnter comma-separated cities to monitor (e.g., Austin, Illinois): \").strip()\n",
        "        cities = [c.strip() for c in raw_input.split(\",\") if c.strip()]\n",
        "\n",
        "        print(\"Monitoring these cities:\", cities)\n",
        "\n",
        "        def scheduled_check():\n",
        "            \"\"\"Function to perform scheduled checks for multiple cities\"\"\"\n",
        "            print(f\"\\n🚨 Starting scheduled check at {local_time.strftime('%Y-%m-%d %H:%M:%S')}\")\n",
        "            for city in cities:\n",
        "                try:\n",
        "                    print(f\"\\n🚨 Checking weather conditions for: {city}\")\n",
        "                    run_weather_emergency_system(city)\n",
        "                    time.sleep(2)\n",
        "                except Exception as e:\n",
        "                    print(f\"Error checking {city}: {str(e)}\")\n",
        "\n",
        "        schedule.every(1).minute.do(scheduled_check)\n",
        "        print(\"Weather Emergency Response System started.\")\n",
        "        print(\"Monitoring scheduled for every minute...\")\n",
        "\n",
        "        while True:\n",
        "            try:\n",
        "                schedule.run_pending()\n",
        "                time.sleep(1)\n",
        "            except KeyboardInterrupt:\n",
        "                print(\"\\nShutting down Weather Emergency Response System...\")\n",
        "                break\n",
        "            except Exception as e:\n",
        "                print(f\"Error in main loop: {str(e)}\")\n",
        "                time.sleep(1)\n",
        "\n",
        "if __name__ == \"__main__\":\n",
        "    main()"
      ]
    },
    {
      "cell_type": "code",
      "execution_count": null,
      "metadata": {
        "id": "P42BHqFdEHe3"
      },
      "outputs": [],
      "source": []
    }
  ],
  "metadata": {
    "colab": {
      "provenance": []
    },
    "kernelspec": {
      "display_name": "Python 3",
      "name": "python3"
    },
    "language_info": {
      "name": "python"
    }
  },
  "nbformat": 4,
  "nbformat_minor": 0
}
